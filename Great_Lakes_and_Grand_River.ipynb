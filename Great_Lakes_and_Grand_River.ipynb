{
 "cells": [
  {
   "cell_type": "markdown",
   "metadata": {},
   "source": [
    "# Great Lakes and the Grand River\n",
    "\\* Based off a CMSE 201 assignment\n",
    "\n",
    "Were going to use Pandas or Numpy and Matplotlib to interact with some data that pertains to the water levels of the [Great Lakes](https://en.wikipedia.org/wiki/Great_Lakes) and the [discharge](https://en.wikipedia.org/wiki/Discharge_(hydrology)) of the [Grand River](https://en.wikipedia.org/wiki/Grand_River_(Michigan)).\n",
    "![picture](https://upload.wikimedia.org/wikipedia/commons/5/57/Great_Lakes_from_space_crop_labeled.jpg)"
   ]
  },
  {
   "cell_type": "markdown",
   "metadata": {},
   "source": [
    "---\n",
    "# Great Lakes"
   ]
  },
  {
   "cell_type": "code",
   "execution_count": 1,
   "metadata": {},
   "outputs": [],
   "source": [
    "# Bring in NumPy, Pandas, and Matplotlib, should be all you need to plot. \n",
    "# IF you need more make sure to notify your group.\n",
    "import numpy as np\n",
    "import pandas as pd\n",
    "import matplotlib.pyplot as plt\n",
    "%matplotlib inline"
   ]
  },
  {
   "cell_type": "markdown",
   "metadata": {},
   "source": [
    "To use this notebook for your in-class assignment, you will need these files, which are available as part of the GitHub repository. They live in the \"data\" folder:\n",
    "* `mhu.csv` -- [Lake Michigan](https://en.wikipedia.org/wiki/Lake_Michigan) and [Lake Huron](https://en.wikipedia.org/wiki/Lake_Huron)\n",
    "* `sup.csv` -- [Lake Superior](https://en.wikipedia.org/wiki/Lake_Superior)\n",
    "* `eri.csv` -- [Lake Erie](https://en.wikipedia.org/wiki/Lake_Erie)\n",
    "* `ont.csv` -- [Lake Ontario](https://en.wikipedia.org/wiki/Lake_Ontario)\n",
    "\n",
    "This notebook **might look very familiar!** It is based off a CMSE 201 assignment that focused on exploring some [Great Lakes](https://en.wikipedia.org/wiki/Great_Lakes) water level data. We will be doing similar calculations with the same data to get some practice with version contol while your remind yourself of your Python skills. Make sure you **try to complete this activity without looking at the old notebook**. The old notebook came up in 201 right after you first learned how to use Matplotlib and as you began to learn about NumPy. This is good moment to reflect on how far you have come.\n",
    "\n",
    "**As instructed in the in-class activity notebook for today, you are only expected to complete one \"PART\" below. Do not worry if your group is not big enough to finish all parts below, but if you have extra time, you're welcome to do so.**"
   ]
  },
  {
   "cell_type": "markdown",
   "metadata": {},
   "source": [
    "# PART 1\n",
    "\n",
    "**Using the Michigan/Huron Dataset, plot the Water Level, the second column, as a function of time [years]**"
   ]
  },
  {
   "cell_type": "code",
   "execution_count": 7,
   "metadata": {},
   "outputs": [
    {
     "data": {
      "text/plain": [
       "Text(0, 0.5, 'Water Level')"
      ]
     },
     "execution_count": 7,
     "metadata": {},
     "output_type": "execute_result"
    },
    {
     "data": {
      "image/png": "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",
      "text/plain": [
       "<Figure size 640x480 with 1 Axes>"
      ]
     },
     "metadata": {},
     "output_type": "display_data"
    }
   ],
   "source": [
    "data = pd.read_csv(\"mhu.csv\")\n",
    "data\n",
    "plt.scatter(data[\"Michigan-Huron annual averages\"],data[\"AnnAvg\"],)\n",
    "plt.xlabel(\"Year\")\n",
    "plt.ylabel(\"Water Level\")"
   ]
  },
  {
   "cell_type": "markdown",
   "metadata": {},
   "source": [
    "# PART 2\n",
    "\n",
    "**Using the Superior Dataset, plot the Water Level, the second column, as a function of time [years]**"
   ]
  },
  {
   "cell_type": "code",
   "execution_count": null,
   "metadata": {},
   "outputs": [],
   "source": [
    "# Insert Code Here"
   ]
  },
  {
   "cell_type": "markdown",
   "metadata": {},
   "source": [
    "# PART 3\n",
    "\n",
    "**Using the Erie Dataset, plot the Water Level, the second column, as a function of time [years]**"
   ]
  },
  {
   "cell_type": "code",
   "execution_count": null,
   "metadata": {},
   "outputs": [],
   "source": [
    "# Insert Code Here\n",
    "eri = pd.read_csv('data/eri.csv')\n",
    "plt.plot(eri['Lake Erie annual averages'], eri['Unnamed: 1']);\n",
    "plt.xlabel('Year');\n",
    "plt.ylabel('Water level');"
   ]
  },
  {
   "cell_type": "markdown",
   "metadata": {},
   "source": [
    "# PART 4\n",
    "\n",
    "**Using the Ontario Dataset, plot the Water Level, the second column, as a function of time [years]**"
   ]
  },
  {
   "cell_type": "code",
   "execution_count": null,
   "metadata": {},
   "outputs": [],
   "source": [
    "# Insert Code Here"
   ]
  },
  {
   "cell_type": "markdown",
   "metadata": {},
   "source": [
    "# PART 5\n",
    "\n",
    "**Using the Michigan/Huron and Superior Datasets, plot the Michigan/Hurion Water Level vs Superior Water Level to see if there is any correlation between the water levels.**"
   ]
  },
  {
   "cell_type": "code",
   "execution_count": null,
   "metadata": {},
   "outputs": [],
   "source": [
    "# Insert Code Here"
   ]
  },
  {
   "cell_type": "markdown",
   "metadata": {},
   "source": [
    "# PART 6\n",
    "\n",
    "**Using the Michigan/Hurion and Erie Datasets, plot the Michigan/Huron Water Level vs Erie Water Level to see if there is any correlation between the water levels.**"
   ]
  },
  {
   "cell_type": "code",
   "execution_count": null,
   "metadata": {},
   "outputs": [],
   "source": [
    "# Insert Code Here\n",
    "michigan = pd.read_csv('data/mhu.csv')\n",
    "erie = pd.read_csv('data/eri.csv')\n",
    "plt.figure(figsize=(8,6))\n",
    "plt.scatter(michigan['AnnAvg'],erie['Unnamed: 1'])\n",
    "plt.xlabel('Lake Michigan/Huron water level')\n",
    "plt.ylabel('Lake Erie water level')"
   ]
  },
  {
   "cell_type": "markdown",
   "metadata": {},
   "source": [
    "# PART 7\n",
    "\n",
    "**Using the Superior and Ontario Datasets, plot the Superior Water Level vs Ontario Water Level to see if there is any correlation between the water levels.**"
   ]
  },
  {
   "cell_type": "code",
   "execution_count": null,
   "metadata": {},
   "outputs": [],
   "source": [
    "# Insert Code Here"
   ]
  },
  {
   "cell_type": "markdown",
   "metadata": {},
   "source": [
    "# PART 8\n",
    "\n",
    "**Using the Erie and Ontario Datasets, plot the Erie Water Level vs Ontario Water Level to see if there is any correlation between the water levels.**"
   ]
  },
  {
   "cell_type": "code",
   "execution_count": null,
   "metadata": {},
   "outputs": [],
   "source": [
    "# Insert Code Here"
   ]
  },
  {
   "cell_type": "markdown",
   "metadata": {},
   "source": [
    "---\n",
    "### &#128721; STOP \n",
    "The next section is for the **Exploring the version history and moving between versions** section of today's in-class activity.\n",
    "\n",
    "---"
   ]
  },
  {
   "cell_type": "markdown",
   "metadata": {},
   "source": [
    "# Grand River\n",
    "<img src=\"https://upload.wikimedia.org/wikipedia/commons/thumb/7/75/Grand_River_%28Michigan%29_map.svg/800px-Grand_River_%28Michigan%29_map.svg.png\">"
   ]
  },
  {
   "cell_type": "markdown",
   "metadata": {},
   "source": [
    "The [Grand River](https://en.wikipedia.org/wiki/Grand_River_(Michigan)) is an important landmark in [Southern Michigan](https://en.wikipedia.org/wiki/Southern_Michigan). It is the longest river in Michigan at 252 miles (406 km) and it runs through many of the noteable cities in [Southern Michigan](https://en.wikipedia.org/wiki/Southern_Michigan), including [Lansing](https://en.wikipedia.org/wiki/Lansing,_Michigan). \"Grand River\" is also the name of a major road way, also known as [U.S. Route 16](https://en.wikipedia.org/wiki/U.S._Route_16_in_Michigan), that stretches from the rivers end point at [Lake Michigan](https://en.wikipedia.org/wiki/Lake_Michigan) in [Grand Haven](https://en.wikipedia.org/wiki/Grand_Haven,_Michigan) to [Detroit](https://en.wikipedia.org/wiki/Detroit). The river is one of the three major [tributaries](https://en.wikipedia.org/wiki/Tributary) of Lake Michigan."
   ]
  },
  {
   "cell_type": "markdown",
   "metadata": {},
   "source": [
    "Using data on the [discharge](https://en.wikipedia.org/wiki/Discharge_(hydrology)) of the [Grand River](https://en.wikipedia.org/wiki/Grand_River_(Michigan)) and water level of [Lake Michigan](https://en.wikipedia.org/wiki/Lake_Michigan)/[Lake Huron](https://en.wikipedia.org/wiki/Lake_Huron), we will see if there is any correlation between the two."
   ]
  },
  {
   "cell_type": "code",
   "execution_count": null,
   "metadata": {},
   "outputs": [],
   "source": [
    "#Importing Seaborn for regplot\n",
    "import seaborn as sns\n",
    "\n",
    "#loading in Data for Grand River from riverdata.com\n",
    "import urllib.request\n",
    "print('Beginning file download with urllib2...')\n",
    "url = 'http://riverdata.com/grand.csv'\n",
    "urllib.request.urlretrieve(url, './data/grand.csv')\n",
    "grand = pd.read_csv(\"./data/grand.csv\")\n",
    "\n",
    "#Loading in Data for mhu.csv\n",
    "mhu = pd.read_csv(\"./data/mhu.csv\")\n",
    "mhu = mhu[mhu[\"Michigan-Huron annual averages\"] >= 1935]\n",
    "grand = grand[grand[\"Calendar Year\"] <= 2015]\n",
    "grand = grand[grand[\"Calendar Year\"] >= 1935]\n",
    "\n",
    "# Setting Size of Figures\n",
    "plt.figure(figsize=(7,10))\n",
    "\n",
    "# Plotting Discharge versus time\n",
    "plt.subplot(2,1,1)\n",
    "plt.scatter(grand[\"Calendar Year\"],grand[\"Discharge (ft^3/s)\"])\n",
    "plt.xlabel(\"Calendar Years\")\n",
    "plt.ylabel(\"Discharge (ft^3/s)\")\n",
    "plt.title(\"Grand River Discharge over Time\")\n",
    "\n",
    "#Plotting Grand River Discharge versus Lake Michigan/Huron Water Level (Normalized)\n",
    "ax2 = plt.subplot(2,1,2)\n",
    "sns.regplot(grand[\"Discharge (ft^3/s)\"],mhu[\"AnnAvg\"],ax=ax2)\n",
    "plt.xlabel(\"Grand River Discharge (ft^3/s)\")\n",
    "plt.ylabel(\"Lake Michigan/Huron Water Level\")\n",
    "plt.title(\"Grand River Discharge vs Lake Michigan/Huron Water Level\")\n",
    "plt.tight_layout()"
   ]
  },
  {
   "cell_type": "markdown",
   "metadata": {},
   "source": [
    "&#169; Copyright 2020,  Michigan State University Board of Trustees."
   ]
  }
 ],
 "metadata": {
  "kernelspec": {
<<<<<<< HEAD
   "display_name": "Python 3.8",
=======
<<<<<<< HEAD
   "display_name": "Python 3.8",
=======
   "display_name": "Python 3 (ipykernel)",
>>>>>>> 7bf37ecbddf13aeace9223b56c7c5a99590a7bd6
>>>>>>> main
   "language": "python",
   "name": "python3"
  },
  "language_info": {
   "codemirror_mode": {
    "name": "ipython",
    "version": 3
   },
   "file_extension": ".py",
   "mimetype": "text/x-python",
   "name": "python",
   "nbconvert_exporter": "python",
   "pygments_lexer": "ipython3",
<<<<<<< HEAD
   "version": "3.8.8"
=======
<<<<<<< HEAD
   "version": "3.8.8"
=======
   "version": "3.9.17"
>>>>>>> 7bf37ecbddf13aeace9223b56c7c5a99590a7bd6
>>>>>>> main
  }
 },
 "nbformat": 4,
 "nbformat_minor": 4
}
